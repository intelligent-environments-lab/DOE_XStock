{
 "cells": [
  {
   "cell_type": "code",
   "execution_count": 1,
   "metadata": {},
   "outputs": [],
   "source": [
    "import math\n",
    "import os\n",
    "import matplotlib.pyplot as plt\n",
    "import matplotlib.colors as colors\n",
    "from matplotlib import cm\n",
    "import numpy as np\n",
    "import pandas as pd\n",
    "import seaborn as sns\n",
    "from doe_xstock.database import SQLiteDatabase\n",
    "from doe_xstock.utilities import split_lines, read_json"
   ]
  },
  {
   "cell_type": "code",
   "execution_count": 16,
   "metadata": {},
   "outputs": [
    {
     "data": {
      "text/html": [
       "<div>\n",
       "<style scoped>\n",
       "    .dataframe tbody tr th:only-of-type {\n",
       "        vertical-align: middle;\n",
       "    }\n",
       "\n",
       "    .dataframe tbody tr th {\n",
       "        vertical-align: top;\n",
       "    }\n",
       "\n",
       "    .dataframe thead th {\n",
       "        text-align: right;\n",
       "    }\n",
       "</style>\n",
       "<table border=\"1\" class=\"dataframe\">\n",
       "  <thead>\n",
       "    <tr style=\"text-align: right;\">\n",
       "      <th></th>\n",
       "      <th>0</th>\n",
       "      <th>1</th>\n",
       "      <th>2</th>\n",
       "      <th>3</th>\n",
       "    </tr>\n",
       "  </thead>\n",
       "  <tbody>\n",
       "    <tr>\n",
       "      <th>0</th>\n",
       "      <td>1</td>\n",
       "      <td>2</td>\n",
       "      <td>3</td>\n",
       "      <td>4</td>\n",
       "    </tr>\n",
       "    <tr>\n",
       "      <th>1</th>\n",
       "      <td>2</td>\n",
       "      <td>2</td>\n",
       "      <td>2</td>\n",
       "      <td>2</td>\n",
       "    </tr>\n",
       "  </tbody>\n",
       "</table>\n",
       "</div>"
      ],
      "text/plain": [
       "   0  1  2  3\n",
       "0  1  2  3  4\n",
       "1  2  2  2  2"
      ]
     },
     "metadata": {},
     "output_type": "display_data"
    },
    {
     "data": {
      "text/html": [
       "<div>\n",
       "<style scoped>\n",
       "    .dataframe tbody tr th:only-of-type {\n",
       "        vertical-align: middle;\n",
       "    }\n",
       "\n",
       "    .dataframe tbody tr th {\n",
       "        vertical-align: top;\n",
       "    }\n",
       "\n",
       "    .dataframe thead th {\n",
       "        text-align: right;\n",
       "    }\n",
       "</style>\n",
       "<table border=\"1\" class=\"dataframe\">\n",
       "  <thead>\n",
       "    <tr style=\"text-align: right;\">\n",
       "      <th></th>\n",
       "      <th>0</th>\n",
       "      <th>level_1</th>\n",
       "      <th>1</th>\n",
       "      <th>2</th>\n",
       "      <th>3</th>\n",
       "    </tr>\n",
       "  </thead>\n",
       "  <tbody>\n",
       "    <tr>\n",
       "      <th>0</th>\n",
       "      <td>1</td>\n",
       "      <td>0</td>\n",
       "      <td>2</td>\n",
       "      <td>3</td>\n",
       "      <td>40</td>\n",
       "    </tr>\n",
       "    <tr>\n",
       "      <th>1</th>\n",
       "      <td>2</td>\n",
       "      <td>1</td>\n",
       "      <td>2</td>\n",
       "      <td>2</td>\n",
       "      <td>20</td>\n",
       "    </tr>\n",
       "  </tbody>\n",
       "</table>\n",
       "</div>"
      ],
      "text/plain": [
       "   0  level_1  1  2   3\n",
       "0  1        0  2  3  40\n",
       "1  2        1  2  2  20"
      ]
     },
     "metadata": {},
     "output_type": "display_data"
    }
   ],
   "source": [
    "df = pd.DataFrame([[1,2,3,4], [2,2,2,2]])\n",
    "display(df)\n",
    "df = df.groupby(0).apply(lambda gr: pd.concat([gr.iloc[:,1:3],gr.iloc[:,3:]*10],axis=1)).reset_index()\n",
    "display(df)"
   ]
  },
  {
   "cell_type": "code",
   "execution_count": 7,
   "metadata": {},
   "outputs": [
    {
     "name": "stdout",
     "output_type": "stream",
     "text": [
      "sklearn inertia: 10715.26036337541\n",
      "calculated inertia: 10715.26036337541\n"
     ]
    }
   ],
   "source": [
    "def get_cohesion_score(x,labels):\n",
    "    df = pd.DataFrame(x)\n",
    "    df['label'] = labels\n",
    "    df = df.groupby('label').apply(lambda gr:\n",
    "        (gr.iloc[:,0:-1] - gr.iloc[:,0:-1].mean())**2\n",
    "    )\n",
    "    wss = df.sum().sum()\n",
    "    return wss\n",
    "\n",
    "SCHEDULE_CLUSTER_DATA_DIRECTORY = '../schedule_cluster_data'\n",
    "data = pd.read_pickle(os.path.join(SCHEDULE_CLUSTER_DATA_DIRECTORY,f'baths.pkl'))\n",
    "kmeans_result = read_json(os.path.join(SCHEDULE_CLUSTER_DATA_DIRECTORY,f'kmeans_result_without_norm.json'))\n",
    "print('sklearn inertia:',kmeans_result['schedules']['baths']['scores']['sse'][0])\n",
    "print('calculated inertia:',get_cohesion_score(data.values,kmeans_result['schedules']['baths']['labels'][0]))"
   ]
  },
  {
   "cell_type": "code",
   "execution_count": 2,
   "metadata": {},
   "outputs": [],
   "source": [
    "database_filepath = '/Users/kingsleyenweye/Desktop/INTELLIGENT_ENVIRONMENT_LAB/doe_xstock/database.db'\n",
    "figures_directory = 'figures/'\n",
    "schedule_data_directory = '../schedule_data'\n",
    "database = SQLiteDatabase(database_filepath)"
   ]
  },
  {
   "cell_type": "markdown",
   "metadata": {},
   "source": [
    "# Understanding the Metadata\n",
    "***"
   ]
  },
  {
   "cell_type": "code",
   "execution_count": 51,
   "metadata": {},
   "outputs": [],
   "source": [
    "# # numeric metadata\n",
    "metadata = database.get_table('metadata')\n",
    "columns_to_exclude = ['id', 'bldg_id', 'dataset_id','upgrade','metadata_index','in_county','in_puma','in_ashrae_iecc_climate_zone_2004', 'in_building_america_climate_zone', 'in_iso_rto_region', 'applicability', 'in_ahs_region', 'in_applicable','in_cec_climate_zone','in_census_division','in_census_division_recs','in_census_region','in_geometry_building_type_acs','in_geometry_building_type_height','in_geometry_building_type_recs','in_state','in_weather_file_longitude','in_weather_file_latitude','in_weather_file_city','in_nhgis_county_gisjoin','in_state_name','in_american_housing_survey_region','in_weather_file_2018','in_weather_file_tmy3','in_resstock_county_id','in_vacancy_status']\n",
    "columns = [c for c in metadata.columns if c not in columns_to_exclude and pd.api.types.is_numeric_dtype(metadata[c])]\n",
    "column_count = 6\n",
    "row_count = math.ceil(len(columns)/column_count)\n",
    "fig, axs = plt.subplots(row_count, column_count, figsize=(4*column_count,3*row_count))\n",
    "\n",
    "for ax, column in zip(fig.axes, columns):\n",
    "    ax.hist(metadata[column])\n",
    "    ax.set_title(split_lines(column, line_character_limit=28,delimiter='_'))\n",
    "\n",
    "plt.tight_layout()\n",
    "plt.savefig(os.path.join(figures_directory,'travis_county_numeric_metadata_histogram.pdf'),transparent=True, bbox_inches='tight')\n",
    "plt.close()\n",
    "\n",
    "# non numeric metadata\n",
    "columns = [c for c in metadata.columns if c not in columns_to_exclude and not pd.api.types.is_numeric_dtype(metadata[c])]\n",
    "column_count = 4\n",
    "row_count = math.ceil(len(columns)/column_count)\n",
    "fig, axs = plt.subplots(row_count, column_count, figsize=(7*column_count,6*row_count))\n",
    "\n",
    "for ax, column in zip(fig.axes, columns):\n",
    "    plot_data = metadata.groupby(column).size().reset_index(name='count')\n",
    "    x, y = list(range(plot_data.shape[0])), plot_data['count']\n",
    "    ax.barh(x,y)\n",
    "    ax.set_yticks(x)\n",
    "    ax.set_yticklabels(plot_data[column].to_list())\n",
    "    ax.set_title(split_lines(column, line_character_limit=28,delimiter='_'))\n",
    "\n",
    "plt.tight_layout()\n",
    "plt.savefig(os.path.join(figures_directory,'travis_county_non_numeric_metadata_histogram.pdf'),transparent=True, bbox_inches='tight')\n",
    "plt.close()"
   ]
  },
  {
   "cell_type": "code",
   "execution_count": 3,
   "metadata": {},
   "outputs": [
    {
     "name": "stdout",
     "output_type": "stream",
     "text": [
      "24/24"
     ]
    }
   ],
   "source": [
    "# schedules\n",
    "schedule_columns = database.query_table(\"\"\"PRAGMA table_info(schedule)\"\"\")\n",
    "schedule_columns = schedule_columns[~schedule_columns['name'].isin(['metadata_id','timestep'])]['name'].tolist()\n",
    "\n",
    "for i, column in enumerate(schedule_columns):\n",
    "    print(f'\\r{i+1}/{len(schedule_columns)}',end='')\n",
    "    database.query_table(f\"\"\"\n",
    "    SELECT\n",
    "        metadata_id,\n",
    "        day*24 + hour AS timestep,\n",
    "        day,\n",
    "        hour,\n",
    "        AVG({column}) AS {column}\n",
    "    FROM (\n",
    "        SELECT\n",
    "            metadata_id,\n",
    "            CAST((timestep - CAST(timestep/96 AS INTEGER)*96)/4 AS INTEGER) AS hour,\n",
    "            CAST(timestep/96 AS INTEGER) AS day,\n",
    "            {column}\n",
    "        FROM schedule\n",
    "    ) t\n",
    "    GROUP BY\n",
    "        metadata_id,\n",
    "        day,\n",
    "        hour\n",
    "    \"\"\").to_pickle(os.path.join(schedule_data_directory,f'{column}.pkl'))"
   ]
  }
 ],
 "metadata": {
  "interpreter": {
   "hash": "c308c5f252ffedf96d389bda9fd62265055310443335bb9c27d4db08f38d8381"
  },
  "kernelspec": {
   "display_name": "Python 3.7.3 ('env': venv)",
   "language": "python",
   "name": "python3"
  },
  "language_info": {
   "codemirror_mode": {
    "name": "ipython",
    "version": 3
   },
   "file_extension": ".py",
   "mimetype": "text/x-python",
   "name": "python",
   "nbconvert_exporter": "python",
   "pygments_lexer": "ipython3",
   "version": "3.7.3"
  },
  "orig_nbformat": 4
 },
 "nbformat": 4,
 "nbformat_minor": 2
}
