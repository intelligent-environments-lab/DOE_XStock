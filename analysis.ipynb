{
 "cells": [
  {
   "cell_type": "code",
   "execution_count": 1,
   "metadata": {},
   "outputs": [],
   "source": [
    "import math\n",
    "import os\n",
    "import matplotlib.pyplot as plt\n",
    "import matplotlib.colors as colors\n",
    "from matplotlib import cm\n",
    "import pandas as pd\n",
    "import seaborn as sns\n",
    "from doe_xstock.database import SQLiteDatabase\n",
    "from doe_xstock.utilities import split_lines"
   ]
  },
  {
   "cell_type": "code",
   "execution_count": 2,
   "metadata": {},
   "outputs": [],
   "source": [
    "database_filepath = '/Users/kingsleyenweye/Desktop/INTELLIGENT_ENVIRONMENT_LAB/doe_xstock/database.db'\n",
    "figures_directory = 'figures/'\n",
    "schedule_data_directory = '../schedule_data'\n",
    "database = SQLiteDatabase(database_filepath)"
   ]
  },
  {
   "cell_type": "markdown",
   "metadata": {},
   "source": [
    "# Understanding the Metadata\n",
    "***"
   ]
  },
  {
   "cell_type": "code",
   "execution_count": 51,
   "metadata": {},
   "outputs": [],
   "source": [
    "# # numeric metadata\n",
    "metadata = database.get_table('metadata')\n",
    "columns_to_exclude = ['id', 'bldg_id', 'dataset_id','upgrade','metadata_index','in_county','in_puma','in_ashrae_iecc_climate_zone_2004', 'in_building_america_climate_zone', 'in_iso_rto_region', 'applicability', 'in_ahs_region', 'in_applicable','in_cec_climate_zone','in_census_division','in_census_division_recs','in_census_region','in_geometry_building_type_acs','in_geometry_building_type_height','in_geometry_building_type_recs','in_state','in_weather_file_longitude','in_weather_file_latitude','in_weather_file_city','in_nhgis_county_gisjoin','in_state_name','in_american_housing_survey_region','in_weather_file_2018','in_weather_file_tmy3','in_resstock_county_id','in_vacancy_status']\n",
    "columns = [c for c in metadata.columns if c not in columns_to_exclude and pd.api.types.is_numeric_dtype(metadata[c])]\n",
    "column_count = 6\n",
    "row_count = math.ceil(len(columns)/column_count)\n",
    "fig, axs = plt.subplots(row_count, column_count, figsize=(4*column_count,3*row_count))\n",
    "\n",
    "for ax, column in zip(fig.axes, columns):\n",
    "    ax.hist(metadata[column])\n",
    "    ax.set_title(split_lines(column, line_character_limit=28,delimiter='_'))\n",
    "\n",
    "plt.tight_layout()\n",
    "plt.savefig(os.path.join(figures_directory,'travis_county_numeric_metadata_histogram.pdf'),transparent=True, bbox_inches='tight')\n",
    "plt.close()\n",
    "\n",
    "# non numeric metadata\n",
    "columns = [c for c in metadata.columns if c not in columns_to_exclude and not pd.api.types.is_numeric_dtype(metadata[c])]\n",
    "column_count = 4\n",
    "row_count = math.ceil(len(columns)/column_count)\n",
    "fig, axs = plt.subplots(row_count, column_count, figsize=(7*column_count,6*row_count))\n",
    "\n",
    "for ax, column in zip(fig.axes, columns):\n",
    "    plot_data = metadata.groupby(column).size().reset_index(name='count')\n",
    "    x, y = list(range(plot_data.shape[0])), plot_data['count']\n",
    "    ax.barh(x,y)\n",
    "    ax.set_yticks(x)\n",
    "    ax.set_yticklabels(plot_data[column].to_list())\n",
    "    ax.set_title(split_lines(column, line_character_limit=28,delimiter='_'))\n",
    "\n",
    "plt.tight_layout()\n",
    "plt.savefig(os.path.join(figures_directory,'travis_county_non_numeric_metadata_histogram.pdf'),transparent=True, bbox_inches='tight')\n",
    "plt.close()"
   ]
  },
  {
   "cell_type": "code",
   "execution_count": 3,
   "metadata": {},
   "outputs": [
    {
     "name": "stdout",
     "output_type": "stream",
     "text": [
      "24/24"
     ]
    }
   ],
   "source": [
    "# schedules\n",
    "schedule_columns = database.query_table(\"\"\"PRAGMA table_info(schedule)\"\"\")\n",
    "schedule_columns = schedule_columns[~schedule_columns['name'].isin(['metadata_id','timestep'])]['name'].tolist()\n",
    "\n",
    "for i, column in enumerate(schedule_columns):\n",
    "    print(f'\\r{i+1}/{len(schedule_columns)}',end='')\n",
    "    database.query_table(f\"\"\"\n",
    "    SELECT\n",
    "        metadata_id,\n",
    "        day*24 + hour AS timestep,\n",
    "        day,\n",
    "        hour,\n",
    "        AVG({column}) AS {column}\n",
    "    FROM (\n",
    "        SELECT\n",
    "            metadata_id,\n",
    "            CAST((timestep - CAST(timestep/96 AS INTEGER)*96)/4 AS INTEGER) AS hour,\n",
    "            CAST(timestep/96 AS INTEGER) AS day,\n",
    "            {column}\n",
    "        FROM schedule\n",
    "    ) t\n",
    "    GROUP BY\n",
    "        metadata_id,\n",
    "        day,\n",
    "        hour\n",
    "    \"\"\").to_pickle(os.path.join(schedule_data_directory,f'{column}.pkl'))"
   ]
  },
  {
   "cell_type": "code",
   "execution_count": null,
   "metadata": {},
   "outputs": [],
   "source": [
    "plot_data = database.query_table(f\"\"\"\n",
    "SELECT\n",
    "    metadata_id,\n",
    "    day*24 + hour AS timestep,\n",
    "    day,\n",
    "    hour,\n",
    "    AVG(value) AS value\n",
    "FROM (\n",
    "    SELECT\n",
    "        metadata_id,\n",
    "        CAST((timestep - CAST(timestep/96 AS INTEGER)*96)/4 AS INTEGER) AS hour,\n",
    "        CAST(timestep/96 AS INTEGER) AS day,\n",
    "        {column} AS value\n",
    "    FROM schedule\n",
    ") t\n",
    "GROUP BY\n",
    "    metadata_id,\n",
    "    day,\n",
    "    hour\n",
    "\"\"\")"
   ]
  },
  {
   "cell_type": "code",
   "execution_count": 12,
   "metadata": {},
   "outputs": [
    {
     "data": {
      "image/png": "[encoded data removed]",
      "text/plain": [
       "<Figure size 1440x288 with 1 Axes>"
      ]
     },
     "metadata": {
      "needs_background": "light"
     },
     "output_type": "display_data"
    }
   ],
   "source": [
    "# plot_data = schedule.copy()\n",
    "fig, ax = plt.subplots(1,1,figsize=(20,4))\n",
    "sns.boxplot(x='hour',y='value',data=plot_data,ax=ax)\n",
    "ax.set_title(column)\n",
    "plt.show()"
   ]
  },
  {
   "cell_type": "code",
   "execution_count": 1,
   "metadata": {},
   "outputs": [
    {
     "name": "stdout",
     "output_type": "stream",
     "text": [
      "24/24"
     ]
    }
   ],
   "source": [
    "import os\n",
    "import matplotlib.pyplot as plt\n",
    "import matplotlib.colors as colors\n",
    "from matplotlib import cm\n",
    "import pandas as pd\n",
    "from saxpy.alphabet import cuts_for_asize\n",
    "from saxpy.paa import paa\n",
    "from saxpy.sax import ts_to_string\n",
    "import seaborn as sns\n",
    "from sklearn.decomposition import PCA\n",
    "from sklearn.preprocessing import StandardScaler\n",
    "\n",
    "plt.rcParams['axes.xmargin'] = 0\n",
    "plt.rcParams['axes.ymargin'] = 0\n",
    "DATABASE_FILEPATH = '/Users/kingsleyenweye/Desktop/INTELLIGENT_ENVIRONMENT_LAB/doe_xstock/database.db'\n",
    "FIGURES_DIRECTORY = 'figures/'\n",
    "SCHEDULE_DATA_DIRECTORY = '../schedule_data'\n",
    "SCHEDULE_PCA_DATA_DIRECTORY = '../schedule_pca_data'\n",
    "SCHEDULE_DATA_FILEPATHS = [os.path.join(SCHEDULE_DATA_DIRECTORY,f) for f in os.listdir(SCHEDULE_DATA_DIRECTORY) if f.endswith('.pkl')]\n",
    "SCHEDULE_DATA_FILEPATHS = sorted(SCHEDULE_DATA_FILEPATHS)\n",
    "SEASONS = {\n",
    "    1:'winter',2:'winter',12:'winter',\n",
    "    3:'spring',4:'spring',5:'spring',\n",
    "    6:'summer',7:'summer',8:'summer',\n",
    "    9:'fall',10:'fall',11:'fall',\n",
    "}\n",
    "PCA_CUMMULATIVE_VARIANCE_THRESHOLD = 0.9\n",
    "SAX_A = 4\n",
    "SAX_W_MAX = 8\n",
    "DATE_RANGE = pd.DataFrame({'timestamp':pd.date_range('2017-01-01','2017-12-31 23:00:00', freq='H')})\n",
    "DATE_RANGE['timestep'] = DATE_RANGE.index\n",
    "DATE_RANGE['month'] = DATE_RANGE['timestamp'].dt.month\n",
    "DATE_RANGE['week'] = DATE_RANGE['timestamp'].dt.isocalendar().week\n",
    "DATE_RANGE['date'] = DATE_RANGE['timestamp'].dt.normalize()\n",
    "DATE_RANGE['day_of_week'] = DATE_RANGE['timestamp'].dt.weekday\n",
    "DATE_RANGE.loc[DATE_RANGE['day_of_week'] == 6, 'week_of'] = DATE_RANGE.loc[DATE_RANGE['day_of_week'] == 6]['timestamp'].dt.normalize()\n",
    "DATE_RANGE['week_of'] = DATE_RANGE['week_of'].ffill()\n",
    "DATE_RANGE['season'] = DATE_RANGE['month'].map(lambda x: SEASONS[x])\n",
    "# lambda functions\n",
    "schedule_name = lambda x: x.split('/')[-1].split('.')[0]\n",
    "threshold_satisfaction_index = lambda x: [\n",
    "    i for i, v in enumerate([sum(x[0:i + 1]) for i in range(len(x))]) if v >= PCA_CUMMULATIVE_VARIANCE_THRESHOLD\n",
    "][0]\n",
    "data_list = []\n",
    "\n",
    "# start here\n",
    "for i, filepath in enumerate(SCHEDULE_DATA_FILEPATHS):\n",
    "    print(f'\\r{i+1}/{len(SCHEDULE_DATA_FILEPATHS)}',end='')\n",
    "    plot_data = pd.read_pickle(filepath)\n",
    "    column = schedule_name(filepath)\n",
    "    plot_data = plot_data.rename(columns={column:'value'})\n",
    "    plot_data['column'] = column\n",
    "    data_list.append(plot_data)\n",
    "\n",
    "plot_data = pd.concat(data_list,ignore_index=True)\n",
    "data_list = None\n",
    "columns = plot_data['column'].unique()\n",
    "plot_data = plot_data.pivot(index=['metadata_id','timestep','day','hour'],columns='column',values='value')"
   ]
  },
  {
   "cell_type": "code",
   "execution_count": 4,
   "metadata": {},
   "outputs": [],
   "source": []
  },
  {
   "cell_type": "code",
   "execution_count": null,
   "metadata": {},
   "outputs": [],
   "source": [
    "scaler = StandardScaler()\n",
    "x = plot_data[]"
   ]
  }
 ],
 "metadata": {
  "interpreter": {
   "hash": "c308c5f252ffedf96d389bda9fd62265055310443335bb9c27d4db08f38d8381"
  },
  "kernelspec": {
   "display_name": "Python 3.7.3 ('env': venv)",
   "language": "python",
   "name": "python3"
  },
  "language_info": {
   "codemirror_mode": {
    "name": "ipython",
    "version": 3
   },
   "file_extension": ".py",
   "mimetype": "text/x-python",
   "name": "python",
   "nbconvert_exporter": "python",
   "pygments_lexer": "ipython3",
   "version": "3.7.3"
  },
  "orig_nbformat": 4
 },
 "nbformat": 4,
 "nbformat_minor": 2
}
