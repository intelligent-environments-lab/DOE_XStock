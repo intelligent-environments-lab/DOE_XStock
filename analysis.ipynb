{
 "cells": [
  {
   "cell_type": "code",
   "execution_count": 1,
   "metadata": {},
   "outputs": [],
   "source": [
    "import math\n",
    "import os\n",
    "import matplotlib.pyplot as plt\n",
    "import matplotlib.colors as colors\n",
    "from matplotlib import cm\n",
    "import pandas as pd\n",
    "import seaborn as sns\n",
    "from doe_xstock.database import SQLiteDatabase\n",
    "from doe_xstock.utilities import split_lines"
   ]
  },
  {
   "cell_type": "code",
   "execution_count": 2,
   "metadata": {},
   "outputs": [],
   "source": [
    "database_filepath = '/Users/kingsleyenweye/Desktop/INTELLIGENT_ENVIRONMENT_LAB/doe_xstock/database.db'\n",
    "figures_directory = 'figures/'\n",
    "schedule_data_directory = '../schedule_data'\n",
    "database = SQLiteDatabase(database_filepath)"
   ]
  },
  {
   "cell_type": "markdown",
   "metadata": {},
   "source": [
    "# Understanding the Metadata\n",
    "***"
   ]
  },
  {
   "cell_type": "code",
   "execution_count": 51,
   "metadata": {},
   "outputs": [],
   "source": [
    "# # numeric metadata\n",
    "metadata = database.get_table('metadata')\n",
    "columns_to_exclude = ['id', 'bldg_id', 'dataset_id','upgrade','metadata_index','in_county','in_puma','in_ashrae_iecc_climate_zone_2004', 'in_building_america_climate_zone', 'in_iso_rto_region', 'applicability', 'in_ahs_region', 'in_applicable','in_cec_climate_zone','in_census_division','in_census_division_recs','in_census_region','in_geometry_building_type_acs','in_geometry_building_type_height','in_geometry_building_type_recs','in_state','in_weather_file_longitude','in_weather_file_latitude','in_weather_file_city','in_nhgis_county_gisjoin','in_state_name','in_american_housing_survey_region','in_weather_file_2018','in_weather_file_tmy3','in_resstock_county_id','in_vacancy_status']\n",
    "columns = [c for c in metadata.columns if c not in columns_to_exclude and pd.api.types.is_numeric_dtype(metadata[c])]\n",
    "column_count = 6\n",
    "row_count = math.ceil(len(columns)/column_count)\n",
    "fig, axs = plt.subplots(row_count, column_count, figsize=(4*column_count,3*row_count))\n",
    "\n",
    "for ax, column in zip(fig.axes, columns):\n",
    "    ax.hist(metadata[column])\n",
    "    ax.set_title(split_lines(column, line_character_limit=28,delimiter='_'))\n",
    "\n",
    "plt.tight_layout()\n",
    "plt.savefig(os.path.join(figures_directory,'travis_county_numeric_metadata_histogram.pdf'),transparent=True, bbox_inches='tight')\n",
    "plt.close()\n",
    "\n",
    "# non numeric metadata\n",
    "columns = [c for c in metadata.columns if c not in columns_to_exclude and not pd.api.types.is_numeric_dtype(metadata[c])]\n",
    "column_count = 4\n",
    "row_count = math.ceil(len(columns)/column_count)\n",
    "fig, axs = plt.subplots(row_count, column_count, figsize=(7*column_count,6*row_count))\n",
    "\n",
    "for ax, column in zip(fig.axes, columns):\n",
    "    plot_data = metadata.groupby(column).size().reset_index(name='count')\n",
    "    x, y = list(range(plot_data.shape[0])), plot_data['count']\n",
    "    ax.barh(x,y)\n",
    "    ax.set_yticks(x)\n",
    "    ax.set_yticklabels(plot_data[column].to_list())\n",
    "    ax.set_title(split_lines(column, line_character_limit=28,delimiter='_'))\n",
    "\n",
    "plt.tight_layout()\n",
    "plt.savefig(os.path.join(figures_directory,'travis_county_non_numeric_metadata_histogram.pdf'),transparent=True, bbox_inches='tight')\n",
    "plt.close()"
   ]
  },
  {
   "cell_type": "code",
   "execution_count": 3,
   "metadata": {},
   "outputs": [
    {
     "name": "stdout",
     "output_type": "stream",
     "text": [
      "24/24"
     ]
    }
   ],
   "source": [
    "# schedules\n",
    "schedule_columns = database.query_table(\"\"\"PRAGMA table_info(schedule)\"\"\")\n",
    "schedule_columns = schedule_columns[~schedule_columns['name'].isin(['metadata_id','timestep'])]['name'].tolist()\n",
    "\n",
    "for i, column in enumerate(schedule_columns):\n",
    "    print(f'\\r{i+1}/{len(schedule_columns)}',end='')\n",
    "    database.query_table(f\"\"\"\n",
    "    SELECT\n",
    "        metadata_id,\n",
    "        day*24 + hour AS timestep,\n",
    "        day,\n",
    "        hour,\n",
    "        AVG({column}) AS {column}\n",
    "    FROM (\n",
    "        SELECT\n",
    "            metadata_id,\n",
    "            CAST((timestep - CAST(timestep/96 AS INTEGER)*96)/4 AS INTEGER) AS hour,\n",
    "            CAST(timestep/96 AS INTEGER) AS day,\n",
    "            {column}\n",
    "        FROM schedule\n",
    "    ) t\n",
    "    GROUP BY\n",
    "        metadata_id,\n",
    "        day,\n",
    "        hour\n",
    "    \"\"\").to_pickle(os.path.join(schedule_data_directory,f'{column}.pkl'))"
   ]
  }
 ],
 "metadata": {
  "interpreter": {
   "hash": "c308c5f252ffedf96d389bda9fd62265055310443335bb9c27d4db08f38d8381"
  },
  "kernelspec": {
   "display_name": "Python 3.7.3 ('env': venv)",
   "language": "python",
   "name": "python3"
  },
  "language_info": {
   "codemirror_mode": {
    "name": "ipython",
    "version": 3
   },
   "file_extension": ".py",
   "mimetype": "text/x-python",
   "name": "python",
   "nbconvert_exporter": "python",
   "pygments_lexer": "ipython3",
   "version": "3.7.3"
  },
  "orig_nbformat": 4
 },
 "nbformat": 4,
 "nbformat_minor": 2
}
