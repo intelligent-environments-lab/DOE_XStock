{
 "cells": [
  {
   "cell_type": "code",
   "execution_count": 1,
   "metadata": {},
   "outputs": [],
   "source": [
    "from datetime import timedelta\n",
    "import sys\n",
    "sys.path.insert(0,'..')\n",
    "import pandas as pd\n",
    "import psychrolib\n",
    "from doe_xstock.database import SQLiteDatabase"
   ]
  },
  {
   "cell_type": "code",
   "execution_count": 2,
   "metadata": {},
   "outputs": [],
   "source": [
    "DATABASE_FILEPATH = '/Users/kingsleyenweye/Desktop/INTELLIGENT_ENVIRONMENT_LAB/doe_xstock/database.db'\n",
    "DATABASE = SQLiteDatabase(DATABASE_FILEPATH)"
   ]
  },
  {
   "cell_type": "code",
   "execution_count": 4,
   "metadata": {},
   "outputs": [],
   "source": [
    "data_filepath = '/Users/kingsleyenweye/Desktop/INTELLIGENT_ENVIRONMENT_LAB/doe_xstock/doe_xstock/data/TX_SPs_Final_0909.parquet'\n",
    "data = pd.read_parquet(data_filepath)\n",
    "data = data.rename(columns={\n",
    "    'Identifier':'building_name',\n",
    "    'TemperatureExpectedCool':'cooling_setpoint',\n",
    "    'TemperatureExpectedHeat':'heating_setpoint',\n",
    "})\n",
    "\n",
    "# build timestamp\n",
    "data['timestamp'] = pd.to_datetime(data['date'])\n",
    "data['timestamp'] = data.apply(lambda x: x['timestamp'] + timedelta(hours=x['hour']), axis=1)\n",
    "data['timestamp'] = data['timestamp'].dt.strftime('%Y-%m-%d %H:%M:%S')\n",
    "\n",
    "# convert to celcius\n",
    "for c in ['cooling_setpoint', 'heating_setpoint']:\n",
    "    data[c] = (data[c] - 32)*5/9\n",
    "\n",
    "# location\n",
    "data['location'] = 'TX, Travis County'\n",
    "\n",
    "location_query = \"\"\"\n",
    "INSERT OR IGNORE INTO ecobee_location (name)\n",
    "VALUES (:location)\n",
    ";\"\"\"\n",
    "location_values = data.groupby('location').size().reset_index().to_dict('records')\n",
    "\n",
    "building_query = \"\"\"\n",
    "INSERT INTO ecobee_building (location_id, name)\n",
    "VALUES ((SELECT id FROM ecobee_location WHERE name = :location), :building_name)\n",
    "ON CONFLICT (name) DO UPDATE SET location_id = EXCLUDED.location_id\n",
    ";\"\"\"\n",
    "building_values = data.groupby(['building_name','location']).size().reset_index().to_dict('records')\n",
    "\n",
    "timeseries_query = \"\"\"\n",
    "INSERT INTO ecobee_timeseries (building_id, timestamp, cooling_setpoint, heating_setpoint)\n",
    "VALUES ((SELECT id FROM ecobee_building WHERE name = :building_name), :timestamp, :cooling_setpoint, :heating_setpoint)\n",
    "ON CONFLICT (building_id, timestamp) DO UPDATE SET\n",
    "    (cooling_setpoint, heating_setpoint) = (EXCLUDED.cooling_setpoint, EXCLUDED.heating_setpoint)\n",
    ";\"\"\"\n",
    "timeseries_values = data.to_dict('records')\n",
    "\n",
    "DATABASE.insert_batch(\n",
    "    [location_query, building_query, timeseries_query],\n",
    "    [location_values, building_values, timeseries_values]\n",
    ")"
   ]
  },
  {
   "cell_type": "code",
   "execution_count": null,
   "metadata": {},
   "outputs": [],
   "source": []
  }
 ],
 "metadata": {
  "kernelspec": {
   "display_name": "Python 3.7.3 ('env': venv)",
   "language": "python",
   "name": "python3"
  },
  "language_info": {
   "codemirror_mode": {
    "name": "ipython",
    "version": 3
   },
   "file_extension": ".py",
   "mimetype": "text/x-python",
   "name": "python",
   "nbconvert_exporter": "python",
   "pygments_lexer": "ipython3",
   "version": "3.7.3"
  },
  "orig_nbformat": 4,
  "vscode": {
   "interpreter": {
    "hash": "c308c5f252ffedf96d389bda9fd62265055310443335bb9c27d4db08f38d8381"
   }
  }
 },
 "nbformat": 4,
 "nbformat_minor": 2
}
