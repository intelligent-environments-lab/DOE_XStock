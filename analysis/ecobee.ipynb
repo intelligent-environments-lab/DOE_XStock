{
 "cells": [
  {
   "cell_type": "code",
   "execution_count": 1,
   "metadata": {},
   "outputs": [],
   "source": [
    "from datetime import timedelta\n",
    "import os\n",
    "import sys\n",
    "sys.path.insert(0,'..')\n",
    "import pandas as pd\n",
    "from doe_xstock.database import SQLiteDatabase"
   ]
  },
  {
   "cell_type": "code",
   "execution_count": 2,
   "metadata": {},
   "outputs": [],
   "source": [
    "DATABASE_FILEPATH = '../database.db'\n",
    "DATABASE = SQLiteDatabase(DATABASE_FILEPATH)\n",
    "DIRECTORY = '../data/ecobee'"
   ]
  },
  {
   "cell_type": "code",
   "execution_count": null,
   "metadata": {},
   "outputs": [],
   "source": [
    "data_list = []\n",
    "\n",
    "for f in os.listdir(DIRECTORY):\n",
    "    if f.endswith('.parquet'):\n",
    "        data = pd.read_parquet(os.path.join(DIRECTORY, f))\n",
    "        data_list.append(data)\n",
    "    else:\n",
    "        pass\n",
    "\n",
    "data = pd.concat(data_list, ignore_index=True, sort=False)\n",
    "data = data.rename(columns={\n",
    "    'Identifier':'building_name',\n",
    "    'TemperatureExpectedCool':'cooling_setpoint',\n",
    "    'TemperatureExpectedHeat':'heating_setpoint',\n",
    "    'T_active':'setpoint'\n",
    "})\n",
    "\n",
    "# build timestamp\n",
    "data['timestamp'] = pd.to_datetime(data['date'])\n",
    "data['timestamp'] = data.apply(lambda x: x['timestamp'] + timedelta(hours=x['hour']), axis=1)\n",
    "data['hour'] = data['timestamp'].dt.hour\n",
    "data['day_of_year'] = data['timestamp'].dt.day_of_year\n",
    "data['timestep'] = 24*(data['day_of_year'] - 1) + data['hour'] + 1\n",
    "\n",
    "# convert to celcius\n",
    "data['setpoint'] = pd.to_numeric(data['setpoint'], errors='coerce')\n",
    "data['setpoint'] = (data['setpoint'] - 32)*5.0/9.0\n",
    "\n",
    "# fill missing values\n",
    "data = data.pivot(index=['location','building_name'],columns='timestep',values='setpoint')\n",
    "data = data.fillna(method='ffill', axis=1,limit=1)\n",
    "data = data.fillna(method='bfill', axis=1,limit=1)\n",
    "data = data.reset_index(drop=False).melt(\n",
    "    id_vars=['location','building_name'],\n",
    "    value_vars=data.columns.tolist(),\n",
    "    value_name='setpoint',\n",
    "    var_name='timestep'\n",
    ")\n",
    "\n",
    "location_query = \"\"\"\n",
    "INSERT OR IGNORE INTO ecobee_location (name)\n",
    "VALUES (:location)\n",
    ";\"\"\"\n",
    "location_values = data.groupby('location').size().reset_index().to_dict('records')\n",
    "\n",
    "building_query = \"\"\"\n",
    "INSERT INTO ecobee_building (location_id, name)\n",
    "VALUES ((SELECT id FROM ecobee_location WHERE name = :location), :building_name)\n",
    "ON CONFLICT (name) DO UPDATE SET location_id = EXCLUDED.location_id\n",
    ";\"\"\"\n",
    "building_values = data.groupby(['building_name','location']).size().reset_index().to_dict('records')\n",
    "\n",
    "timeseries_query = \"\"\"\n",
    "INSERT INTO ecobee_timeseries (building_id, timestep, setpoint)\n",
    "VALUES ((SELECT id FROM ecobee_building WHERE name = :building_name), :timestep, :setpoint)\n",
    "ON CONFLICT (building_id, timestep) DO UPDATE SET\n",
    "    (setpoint) = (EXCLUDED.setpoint)\n",
    ";\"\"\"\n",
    "timeseries_values = data.to_dict('records')\n",
    "\n",
    "DATABASE.insert_batch(\n",
    "    [location_query, building_query, timeseries_query],\n",
    "    [location_values, building_values, timeseries_values]\n",
    ")"
   ]
  }
 ],
 "metadata": {
  "kernelspec": {
   "display_name": "Python 3.7.3 ('env': venv)",
   "language": "python",
   "name": "python3"
  },
  "language_info": {
   "codemirror_mode": {
    "name": "ipython",
    "version": 3
   },
   "file_extension": ".py",
   "mimetype": "text/x-python",
   "name": "python",
   "nbconvert_exporter": "python",
   "pygments_lexer": "ipython3",
   "version": "3.7.3"
  },
  "orig_nbformat": 4,
  "vscode": {
   "interpreter": {
    "hash": "c308c5f252ffedf96d389bda9fd62265055310443335bb9c27d4db08f38d8381"
   }
  }
 },
 "nbformat": 4,
 "nbformat_minor": 2
}
