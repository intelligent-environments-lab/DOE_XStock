{
 "cells": [
  {
   "cell_type": "code",
   "execution_count": 1,
   "metadata": {},
   "outputs": [],
   "source": [
    "import os\n",
    "from pathlib import Path\n",
    "import re\n",
    "import sys\n",
    "sys.path.insert(0,'../../')\n",
    "from eppy.runner.run_functions import EnergyPlusRunError\n",
    "import matplotlib.pyplot as plt\n",
    "import numpy as np\n",
    "import pandas as pd\n",
    "from doe_xstock.database import SQLiteDatabase\n",
    "from doe_xstock.simulate import OpenStudioModelEditor, Simulator\n",
    "from doe_xstock.utilities import get_data_from_path, split_lines, read_json, write_data, write_json"
   ]
  },
  {
   "cell_type": "code",
   "execution_count": 12,
   "metadata": {},
   "outputs": [
    {
     "ename": "TypeError",
     "evalue": "explode() missing 1 required positional argument: 'column'",
     "output_type": "error",
     "traceback": [
      "\u001b[0;31m---------------------------------------------------------------------------\u001b[0m",
      "\u001b[0;31mTypeError\u001b[0m                                 Traceback (most recent call last)",
      "\u001b[0;32m/var/folders/gz/rbl0rksd7dqcx5pny2wgmsb40000gn/T/ipykernel_97614/461240722.py\u001b[0m in \u001b[0;36m<module>\u001b[0;34m\u001b[0m\n\u001b[0;32m----> 1\u001b[0;31m \u001b[0mpd\u001b[0m\u001b[0;34m.\u001b[0m\u001b[0mDataFrame\u001b[0m\u001b[0;34m.\u001b[0m\u001b[0mfrom_dict\u001b[0m\u001b[0;34m(\u001b[0m\u001b[0;34m{\u001b[0m\u001b[0;34m'a'\u001b[0m\u001b[0;34m:\u001b[0m\u001b[0;34m{\u001b[0m\u001b[0;36m0\u001b[0m\u001b[0;34m:\u001b[0m\u001b[0;34m[\u001b[0m\u001b[0;36m1\u001b[0m\u001b[0;34m,\u001b[0m\u001b[0;36m2\u001b[0m\u001b[0;34m,\u001b[0m\u001b[0;36m3\u001b[0m\u001b[0;34m,\u001b[0m\u001b[0;36m4\u001b[0m\u001b[0;34m]\u001b[0m\u001b[0;34m,\u001b[0m\u001b[0;36m1\u001b[0m\u001b[0;34m:\u001b[0m\u001b[0;34m[\u001b[0m\u001b[0;36m4\u001b[0m\u001b[0;34m,\u001b[0m\u001b[0;36m4\u001b[0m\u001b[0;34m,\u001b[0m\u001b[0;36m4\u001b[0m\u001b[0;34m,\u001b[0m\u001b[0;36m4\u001b[0m\u001b[0;34m]\u001b[0m\u001b[0;34m}\u001b[0m\u001b[0;34m}\u001b[0m\u001b[0;34m,\u001b[0m\u001b[0;34m)\u001b[0m\u001b[0;34m.\u001b[0m\u001b[0mT\u001b[0m\u001b[0;34m.\u001b[0m\u001b[0mexplode\u001b[0m\u001b[0;34m(\u001b[0m\u001b[0;34m)\u001b[0m\u001b[0;34m\u001b[0m\u001b[0;34m\u001b[0m\u001b[0m\n\u001b[0m",
      "\u001b[0;31mTypeError\u001b[0m: explode() missing 1 required positional argument: 'column'"
     ]
    }
   ],
   "source": [
    "pd.DataFrame.from_dict({'a':{0:[1,2,3,4],1:[4,4,4,4]}},)"
   ]
  },
  {
   "cell_type": "code",
   "execution_count": 2,
   "metadata": {},
   "outputs": [],
   "source": [
    "plt.rcParams['axes.xmargin'] = 0\n",
    "plt.rcParams['axes.ymargin'] = 0\n",
    "SIMULATION_OUTPUT_DIRECTORY = Path('/Users/kingsleyenweye/Desktop/INTELLIGENT_ENVIRONMENT_LAB/doe_xstock/energyplus_simulation')\n",
    "DATABASE_FILEPATH = Path('/Users/kingsleyenweye/Desktop/INTELLIGENT_ENVIRONMENT_LAB/doe_xstock/database.db')\n",
    "NEIGHBOURHOOD_FILEPATH = Path('/Users/kingsleyenweye/Desktop/INTELLIGENT_ENVIRONMENT_LAB/doe_xstock/doe_xstock/data/neighborhoods/travis_county.json')\n",
    "SCHEDULES_FILENAME = Path('schedules.csv')\n",
    "IDD_FILEPATH = Path('/Applications/EnergyPlus-9-6-0/PreProcess/IDFVersionUpdater/V9-6-0-Energy+.idd')\n",
    "NEIGHBOURHOOD = read_json(NEIGHBOURHOOD_FILEPATH)\n",
    "DATABASE = SQLiteDatabase(DATABASE_FILEPATH)\n",
    "OUTPUT_VARIABLES = [\n",
    "    'Lights Electricity Energy','Electric Equipment Electricity Energy',\n",
    "    'Zone Air Temperature','Zone Air Relative Humidity','Zone Mean Air Temperature',\n",
    "    'Zone Thermostat Cooling Setpoint Temperature','Zone Thermostat Heating Setpoint Temperature',\n",
    "    'Water Heater Heating Energy',\n",
    "    'Zone Predicted Sensible Load to Setpoint Heat Transfer Rate',\n",
    "    'Zone Predicted Moisture Load Moisture Transfer Rate',\n",
    "    'Air System Outdoor Air Mass Flow Rate',\n",
    "    'Air System Fan Electricity Energy',\n",
    "    'Other Equipment Convective Heating Rate',\n",
    "    'Zone Air System Sensible Cooling Rate',\n",
    "    'Zone Air System Sensible Heating Rate',\n",
    "    'Air System Mechanical Ventilation Flow Rate',\n",
    "    'Zone Ideal Loads Zone Sensible Cooling Energy','Zone Ideal Loads Zone Sensible Heating Energy',\n",
    "    'Zone Ideal Loads Zone Latent Cooling Energy','Zone Ideal Loads Zone Latent Heating Energy',\n",
    "    'Zone Ideal Loads Zone Total Cooling Energy','Zone Ideal Loads Zone Total Heating Energy',\n",
    "    'Zone Ideal Loads Zone Sensible Cooling Rate','Zone Ideal Loads Zone Sensible Heating Rate',\n",
    "    'Zone Ideal Loads Zone Latent Cooling Rate','Zone Ideal Loads Zone Latent Heating Rate',\n",
    "    'Zone Ideal Loads Zone Total Cooling Rate','Zone Ideal Loads Zone Total Heating Rate',\n",
    "]\n",
    "OUTPUT_SCHEMA_FILEPATH = Path('/Users/kingsleyenweye/Desktop/INTELLIGENT_ENVIRONMENT_LAB/doe_xstock/doe_xstock/analysis/output_schema.sql')\n",
    "OUTPUT_QUERY = get_data_from_path(OUTPUT_SCHEMA_FILEPATH)"
   ]
  },
  {
   "cell_type": "markdown",
   "metadata": {},
   "source": [
    "# WORKFLOW 1 (Ideal Air Loads System)\n",
    "***"
   ]
  },
  {
   "cell_type": "code",
   "execution_count": 3,
   "metadata": {},
   "outputs": [],
   "source": [
    "# functions\n",
    "def get_schedule_data(size,seed=0,minimum_value=0.3,maximum_value=1.7,probability=0.6):\n",
    "    np.random.seed(seed)\n",
    "    schedule = np.random.uniform(minimum_value,maximum_value,size)\n",
    "    schedule[np.random.random(size) > probability] = 1\n",
    "    return schedule.tolist()\n",
    "\n",
    "def get_simulation_summary(filepath,cooled_zone_ixs=None,heated_zone_ixs=None):\n",
    "    cooled_zone_ixs = [-1] if cooled_zone_ixs is None else cooled_zone_ixs\n",
    "    heated_zone_ixs = [-1] if heated_zone_ixs is None else heated_zone_ixs\n",
    "    cooled_zone_ixs = '(' + str(cooled_zone_ixs)[1:-1] + ')'\n",
    "    heated_zone_ixs = '(' + str(heated_zone_ixs)[1:-1] + ')'\n",
    "    query = f\"\"\"\n",
    "    WITH zone_conditioning AS (\n",
    "        SELECT\n",
    "            ZoneIndex,\n",
    "            CASE WHEN ZoneIndex IN {cooled_zone_ixs} THEN 1 ELSE 0 END AS is_cooled,\n",
    "            CASE WHEN ZoneIndex IN {heated_zone_ixs} THEN 1 ELSE 0 END AS is_heated\n",
    "        FROM Zones\n",
    "\n",
    "    ), zone AS (\n",
    "        -- get zone floor area proportion of total zone floor area\n",
    "        SELECT\n",
    "            z.ZoneName,\n",
    "            z.Multiplier,\n",
    "            z.Volume,\n",
    "            z.FloorArea,\n",
    "            (z.FloorArea*z.Multiplier)/t.total_floor_area AS total_floor_area_proportion,\n",
    "            CASE WHEN c.is_cooled != 0 OR c.is_heated != 0 THEN (z.FloorArea*z.Multiplier)/t.conditioned_floor_area ELSE 0 END AS conditioned_floor_area_proportion,\n",
    "            c.is_cooled,\n",
    "            c.is_heated\n",
    "        FROM Zones z\n",
    "        CROSS JOIN (\n",
    "            SELECT\n",
    "                SUM(z.FloorArea*z.Multiplier) AS total_floor_area,\n",
    "                SUM(CASE WHEN c.is_cooled != 0 OR c.is_heated != 0 THEN z.FloorArea*z.Multiplier ELSE 0 END) AS conditioned_floor_area\n",
    "            FROM Zones z\n",
    "            LEFT JOIN zone_conditioning c ON c.ZoneIndex = z.ZoneIndex\n",
    "        ) t\n",
    "        LEFT JOIN zone_conditioning c ON c.ZoneIndex = z.ZoneIndex\n",
    "\n",
    "    ), unioned_variables AS (\n",
    "        -- weighted average variable\n",
    "        SELECT\n",
    "            r.TimeIndex,\n",
    "            r.ReportDataDictionaryIndex,\n",
    "            'air_temperature' AS label,\n",
    "            NULL AS zone_index,\n",
    "            NULL AS zone_name,\n",
    "            r.Value*z.conditioned_floor_area_proportion AS \"value\"\n",
    "        FROM ReportData r\n",
    "        INNER JOIN ReportDataDictionary d ON d.ReportDataDictionaryIndex = r.ReportDataDictionaryIndex\n",
    "        INNER JOIN \"zone\" z ON z.ZoneName = d.KeyValue\n",
    "        WHERE\n",
    "            (d.Name = 'Zone Mean Air Temperature' AND (z.is_cooled != 0 OR z.is_heated != 0))\n",
    "\n",
    "        UNION\n",
    "\n",
    "       -- cooling and heating loads\n",
    "        SELECT\n",
    "            r.TimeIndex,\n",
    "            r.ReportDataDictionaryIndex,\n",
    "            'cooling_load' AS label,\n",
    "            z.ZoneIndex AS zone_index,\n",
    "            z.ZoneName AS zone_name,\n",
    "            ABS(r.value) AS value\n",
    "        FROM ReportData r\n",
    "        INNER JOIN ReportDataDictionary d ON d.ReportDataDictionaryIndex = r.ReportDataDictionaryIndex\n",
    "        LEFT JOIN Zones z ON z.ZoneName = REPLACE(d.KeyValue, ' IDEAL LOADS AIR SYSTEM', '')\n",
    "        WHERE d.Name = 'Zone Ideal Loads Zone Sensible Cooling Rate' AND z.ZoneIndex IN {cooled_zone_ixs}\n",
    "        UNION\n",
    "        SELECT\n",
    "            r.TimeIndex,\n",
    "            r.ReportDataDictionaryIndex,\n",
    "            'heating_load' AS label,\n",
    "            z.ZoneIndex AS zone_index,\n",
    "            z.ZoneName AS zone_name,\n",
    "            ABS(r.value) AS value\n",
    "        FROM ReportData r\n",
    "        INNER JOIN ReportDataDictionary d ON d.ReportDataDictionaryIndex = r.ReportDataDictionaryIndex\n",
    "        LEFT JOIN Zones z ON z.ZoneName = REPLACE(d.KeyValue, ' IDEAL LOADS AIR SYSTEM', '')\n",
    "        WHERE d.Name = 'Zone Ideal Loads Zone Sensible Heating Rate' AND z.ZoneIndex IN {heated_zone_ixs}\n",
    "    ), aggregate_value AS (\n",
    "        -- sum the variables per timestamp\n",
    "        SELECT\n",
    "            u.TimeIndex,\n",
    "            d.Name,\n",
    "            d.Units,\n",
    "            u.label,\n",
    "            u.zone_name,\n",
    "            u.zone_index,\n",
    "            SUM(u.value) AS value\n",
    "        FROM unioned_variables u\n",
    "        INNER JOIN ReportDataDictionary d ON d.ReportDataDictionaryIndex = u.ReportDataDictionaryIndex\n",
    "        GROUP BY\n",
    "            u.TimeIndex,\n",
    "            u.label,\n",
    "            d.Name,\n",
    "            d.Units,\n",
    "            u.zone_name,\n",
    "            u.zone_index\n",
    "    )\n",
    "\n",
    "    SELECT\n",
    "        t.TimeIndex AS 'timestep',\n",
    "        t.Month AS 'month',\n",
    "        t.Day AS 'day',\n",
    "        t.Hour AS 'hour',\n",
    "        t.Minute AS 'minute',\n",
    "        t.DayType AS day_name,\n",
    "        CASE\n",
    "            WHEN t.DayType = 'Monday' THEN 1\n",
    "            WHEN t.DayType = 'Tuesday' THEN 2\n",
    "            WHEN t.DayType = 'Wednesday' THEN 3\n",
    "            WHEN t.DayType = 'Thursday' THEN 4\n",
    "            WHEN t.DayType = 'Friday' THEN 5\n",
    "            WHEN t.DayType = 'Saturday' THEN 6\n",
    "            WHEN t.DayType = 'Sunday' THEN 7\n",
    "            WHEN t.DayType = 'Holiday' THEN 8\n",
    "            ELSE NULL\n",
    "        END AS day_of_week,\n",
    "        a.Name AS output_variable,\n",
    "        a.Units AS units,\n",
    "        a.label,\n",
    "        a.zone_index,\n",
    "        a.zone_name,\n",
    "        a.value\n",
    "    FROM aggregate_value a\n",
    "    INNER JOIN \"Time\" t ON t.TimeIndex = a.TimeIndex\n",
    "    WHERE\n",
    "        t.DayType NOT IN ('SummerDesignDay', 'WinterDesignDay')\n",
    "    \"\"\"\n",
    "    database = SQLiteDatabase(filepath)\n",
    "    data = database.query_table(query)\n",
    "    return data\n",
    "\n",
    "def get_zone_conditioning_metadata(filepath):\n",
    "    query = \"\"\"\n",
    "    SELECT\n",
    "        z.ZoneIndex AS zone_index,\n",
    "        z.ZoneName AS zone_name,\n",
    "        SUM(CASE WHEN s.Name = 'Zone Thermostat Cooling Setpoint Temperature' AND s.average_setpoint > 0 THEN 1 ELSE 0 END) AS is_cooled,\n",
    "        SUM(CASE WHEN s.Name = 'Zone Thermostat Heating Setpoint Temperature' AND s.average_setpoint > 0 THEN 1 ELSE 0 END) AS is_heated,\n",
    "        MAX(CASE WHEN s.Name = 'Zone Thermostat Cooling Setpoint Temperature' THEN s.average_setpoint ELSE NULL END) AS average_cooling_setpoint,\n",
    "        MAX(CASE WHEN s.Name = 'Zone Thermostat Heating Setpoint Temperature' THEN s.average_setpoint ELSE NULL END) AS average_heating_setpoint\n",
    "    FROM (\n",
    "        SELECT\n",
    "            d.KeyValue,\n",
    "            d.Name,\n",
    "            AVG(r.\"value\") AS average_setpoint\n",
    "        FROM ReportData r\n",
    "        INNER JOIN ReportDataDictionary d ON d.ReportDataDictionaryIndex = r.ReportDataDictionaryIndex\n",
    "        WHERE d.Name IN ('Zone Thermostat Cooling Setpoint Temperature', 'Zone Thermostat Heating Setpoint Temperature')\n",
    "        GROUP BY d.KeyValue, d.Name\n",
    "    ) s\n",
    "    LEFT JOIN Zones z ON z.ZoneName = s.KeyValue\n",
    "    GROUP BY\n",
    "        z.ZoneName,\n",
    "        z.ZoneIndex\n",
    "    \"\"\"\n",
    "    database = SQLiteDatabase(filepath)\n",
    "    data = database.query_table(query)\n",
    "    return data"
   ]
  },
  {
   "cell_type": "code",
   "execution_count": 4,
   "metadata": {},
   "outputs": [
    {
     "name": "stderr",
     "output_type": "stream",
     "text": [
      "Could not find platform independent libraries <prefix>\n",
      "Could not find platform dependent libraries <exec_prefix>\n",
      "Consider setting $PYTHONHOME to <prefix>[:<exec_prefix>]\n",
      "Program terminated: EnergyPlus Terminated--Error(s) Detected.\n"
     ]
    },
    {
     "name": "stdout",
     "output_type": "stream",
     "text": [
      "Removed EMS objs: {'EnergyManagementSystem:Sensor': ['res_ds_res_ac_asys_ah_mfr_s', 'res_ds_res_ac_asys_ah_tt_s', 'res_ds_res_ac_asys_ah_vfr_s', 'res_ds_res_ac_asys_ah_wt_s', 'res_ds_res_ac_asys_fan_rtf_s', 'res_ds_res_ac_asys_ra_t_s', 'res_ds_res_ac_asys_ra_w_s', 'res_ds_res_fur_gas_asys_ah_mfr_s', 'res_ds_res_fur_gas_asys_ah_tt_s', 'res_ds_res_fur_gas_asys_ah_vfr_s', 'res_ds_res_fur_gas_asys_ah_wt_s', 'res_ds_res_fur_gas_asys_fan_rtf_s', 'res_ds_res_fur_gas_asys_ra_t_s', 'res_ds_res_fur_gas_asys_ra_w_s']}\n",
      "Edited EMS objs: {}\n",
      "Rerunning sim.\n"
     ]
    },
    {
     "name": "stderr",
     "output_type": "stream",
     "text": [
      "Could not find platform independent libraries <prefix>\n",
      "Could not find platform dependent libraries <exec_prefix>\n",
      "Consider setting $PYTHONHOME to <prefix>[:<exec_prefix>]\n",
      "Program terminated: EnergyPlus Terminated--Error(s) Detected.\n"
     ]
    },
    {
     "name": "stdout",
     "output_type": "stream",
     "text": [
      "Removed EMS objs: {}\n",
      "Edited EMS objs: {'EnergyManagementSystem:Program': {'res_infil_1_program': ['24']}}\n",
      "Rerunning sim.\n"
     ]
    },
    {
     "name": "stderr",
     "output_type": "stream",
     "text": [
      "Could not find platform independent libraries <prefix>\n",
      "Could not find platform dependent libraries <exec_prefix>\n",
      "Consider setting $PYTHONHOME to <prefix>[:<exec_prefix>]\n",
      "Program terminated: EnergyPlus Terminated--Error(s) Detected.\n"
     ]
    },
    {
     "name": "stdout",
     "output_type": "stream",
     "text": [
      "Removed EMS objs: {}\n",
      "Edited EMS objs: {'EnergyManagementSystem:Program': {'res_infil_1_program': ['26']}}\n",
      "Rerunning sim.\n"
     ]
    },
    {
     "name": "stderr",
     "output_type": "stream",
     "text": [
      "Could not find platform independent libraries <prefix>\n",
      "Could not find platform dependent libraries <exec_prefix>\n",
      "Consider setting $PYTHONHOME to <prefix>[:<exec_prefix>]\n",
      "Program terminated: EnergyPlus Terminated--Error(s) Detected.\n"
     ]
    },
    {
     "name": "stdout",
     "output_type": "stream",
     "text": [
      "Removed EMS objs: {}\n",
      "Edited EMS objs: {'EnergyManagementSystem:Program': {'res_ds_res_ac_asys_program': ['1']}}\n",
      "Rerunning sim.\n"
     ]
    },
    {
     "name": "stderr",
     "output_type": "stream",
     "text": [
      "Could not find platform independent libraries <prefix>\n",
      "Could not find platform dependent libraries <exec_prefix>\n",
      "Consider setting $PYTHONHOME to <prefix>[:<exec_prefix>]\n",
      "Program terminated: EnergyPlus Terminated--Error(s) Detected.\n"
     ]
    },
    {
     "name": "stdout",
     "output_type": "stream",
     "text": [
      "Removed EMS objs: {}\n",
      "Edited EMS objs: {'EnergyManagementSystem:Program': {'res_ds_res_ac_asys_program': ['2']}}\n",
      "Rerunning sim.\n"
     ]
    },
    {
     "name": "stderr",
     "output_type": "stream",
     "text": [
      "Could not find platform independent libraries <prefix>\n",
      "Could not find platform dependent libraries <exec_prefix>\n",
      "Consider setting $PYTHONHOME to <prefix>[:<exec_prefix>]\n",
      "Program terminated: EnergyPlus Terminated--Error(s) Detected.\n"
     ]
    },
    {
     "name": "stdout",
     "output_type": "stream",
     "text": [
      "Removed EMS objs: {}\n",
      "Edited EMS objs: {'EnergyManagementSystem:Program': {'res_ds_res_ac_asys_program': ['3']}}\n",
      "Rerunning sim.\n"
     ]
    },
    {
     "name": "stderr",
     "output_type": "stream",
     "text": [
      "Could not find platform independent libraries <prefix>\n",
      "Could not find platform dependent libraries <exec_prefix>\n",
      "Consider setting $PYTHONHOME to <prefix>[:<exec_prefix>]\n",
      "Program terminated: EnergyPlus Terminated--Error(s) Detected.\n"
     ]
    },
    {
     "name": "stdout",
     "output_type": "stream",
     "text": [
      "Removed EMS objs: {}\n",
      "Edited EMS objs: {'EnergyManagementSystem:Program': {'res_ds_res_ac_asys_program': ['4']}}\n",
      "Rerunning sim.\n"
     ]
    },
    {
     "name": "stderr",
     "output_type": "stream",
     "text": [
      "Could not find platform independent libraries <prefix>\n",
      "Could not find platform dependent libraries <exec_prefix>\n",
      "Consider setting $PYTHONHOME to <prefix>[:<exec_prefix>]\n",
      "Program terminated: EnergyPlus Terminated--Error(s) Detected.\n"
     ]
    },
    {
     "name": "stdout",
     "output_type": "stream",
     "text": [
      "Removed EMS objs: {}\n",
      "Edited EMS objs: {'EnergyManagementSystem:Program': {'res_ds_res_ac_asys_program': ['5']}}\n",
      "Rerunning sim.\n"
     ]
    },
    {
     "name": "stderr",
     "output_type": "stream",
     "text": [
      "Could not find platform independent libraries <prefix>\n",
      "Could not find platform dependent libraries <exec_prefix>\n",
      "Consider setting $PYTHONHOME to <prefix>[:<exec_prefix>]\n",
      "Program terminated: EnergyPlus Terminated--Error(s) Detected.\n"
     ]
    },
    {
     "name": "stdout",
     "output_type": "stream",
     "text": [
      "Removed EMS objs: {}\n",
      "Edited EMS objs: {'EnergyManagementSystem:Program': {'res_ds_res_ac_asys_program': ['6']}}\n",
      "Rerunning sim.\n"
     ]
    },
    {
     "name": "stderr",
     "output_type": "stream",
     "text": [
      "Could not find platform independent libraries <prefix>\n",
      "Could not find platform dependent libraries <exec_prefix>\n",
      "Consider setting $PYTHONHOME to <prefix>[:<exec_prefix>]\n",
      "Program terminated: EnergyPlus Terminated--Error(s) Detected.\n"
     ]
    },
    {
     "name": "stdout",
     "output_type": "stream",
     "text": [
      "Removed EMS objs: {}\n",
      "Edited EMS objs: {'EnergyManagementSystem:Program': {'res_ds_res_ac_asys_program': ['7']}}\n",
      "Rerunning sim.\n"
     ]
    },
    {
     "name": "stderr",
     "output_type": "stream",
     "text": [
      "Could not find platform independent libraries <prefix>\n",
      "Could not find platform dependent libraries <exec_prefix>\n",
      "Consider setting $PYTHONHOME to <prefix>[:<exec_prefix>]\n",
      "Program terminated: EnergyPlus Terminated--Error(s) Detected.\n"
     ]
    },
    {
     "name": "stdout",
     "output_type": "stream",
     "text": [
      "Removed EMS objs: {}\n",
      "Edited EMS objs: {'EnergyManagementSystem:Subroutine': {'res_ds_res_ac_asys_lk_subrout': ['4']}}\n",
      "Rerunning sim.\n"
     ]
    },
    {
     "name": "stderr",
     "output_type": "stream",
     "text": [
      "Could not find platform independent libraries <prefix>\n",
      "Could not find platform dependent libraries <exec_prefix>\n",
      "Consider setting $PYTHONHOME to <prefix>[:<exec_prefix>]\n",
      "Program terminated: EnergyPlus Terminated--Error(s) Detected.\n"
     ]
    },
    {
     "name": "stdout",
     "output_type": "stream",
     "text": [
      "Removed EMS objs: {}\n",
      "Edited EMS objs: {'EnergyManagementSystem:Subroutine': {'res_ds_res_ac_asys_lk_subrout': ['5']}}\n",
      "Rerunning sim.\n"
     ]
    },
    {
     "name": "stderr",
     "output_type": "stream",
     "text": [
      "Could not find platform independent libraries <prefix>\n",
      "Could not find platform dependent libraries <exec_prefix>\n",
      "Consider setting $PYTHONHOME to <prefix>[:<exec_prefix>]\n",
      "Program terminated: EnergyPlus Terminated--Error(s) Detected.\n"
     ]
    },
    {
     "name": "stdout",
     "output_type": "stream",
     "text": [
      "Removed EMS objs: {}\n",
      "Edited EMS objs: {'EnergyManagementSystem:Subroutine': {'res_ds_res_ac_asys_lk_subrout': ['6']}}\n",
      "Rerunning sim.\n"
     ]
    },
    {
     "name": "stderr",
     "output_type": "stream",
     "text": [
      "Could not find platform independent libraries <prefix>\n",
      "Could not find platform dependent libraries <exec_prefix>\n",
      "Consider setting $PYTHONHOME to <prefix>[:<exec_prefix>]\n",
      "Program terminated: EnergyPlus Terminated--Error(s) Detected.\n"
     ]
    },
    {
     "name": "stdout",
     "output_type": "stream",
     "text": [
      "Removed EMS objs: {}\n",
      "Edited EMS objs: {'EnergyManagementSystem:Subroutine': {'res_ds_res_ac_asys_lk_subrout': ['7']}}\n",
      "Rerunning sim.\n"
     ]
    },
    {
     "name": "stderr",
     "output_type": "stream",
     "text": [
      "Could not find platform independent libraries <prefix>\n",
      "Could not find platform dependent libraries <exec_prefix>\n",
      "Consider setting $PYTHONHOME to <prefix>[:<exec_prefix>]\n",
      "Program terminated: EnergyPlus Terminated--Error(s) Detected.\n"
     ]
    },
    {
     "name": "stdout",
     "output_type": "stream",
     "text": [
      "Removed EMS objs: {}\n",
      "Edited EMS objs: {'EnergyManagementSystem:Subroutine': {'res_ds_res_ac_asys_lk_subrout': ['10']}}\n",
      "Rerunning sim.\n"
     ]
    },
    {
     "name": "stderr",
     "output_type": "stream",
     "text": [
      "Could not find platform independent libraries <prefix>\n",
      "Could not find platform dependent libraries <exec_prefix>\n",
      "Consider setting $PYTHONHOME to <prefix>[:<exec_prefix>]\n",
      "Program terminated: EnergyPlus Terminated--Error(s) Detected.\n"
     ]
    },
    {
     "name": "stdout",
     "output_type": "stream",
     "text": [
      "Removed EMS objs: {}\n",
      "Edited EMS objs: {'EnergyManagementSystem:Subroutine': {'res_ds_res_ac_asys_lk_subrout': ['11']}}\n",
      "Rerunning sim.\n"
     ]
    },
    {
     "name": "stderr",
     "output_type": "stream",
     "text": [
      "Could not find platform independent libraries <prefix>\n",
      "Could not find platform dependent libraries <exec_prefix>\n",
      "Consider setting $PYTHONHOME to <prefix>[:<exec_prefix>]\n",
      "Program terminated: EnergyPlus Terminated--Error(s) Detected.\n"
     ]
    },
    {
     "name": "stdout",
     "output_type": "stream",
     "text": [
      "Removed EMS objs: {}\n",
      "Edited EMS objs: {'EnergyManagementSystem:Program': {'res_ds_res_ac_asys_program': ['21']}}\n",
      "Rerunning sim.\n"
     ]
    },
    {
     "name": "stderr",
     "output_type": "stream",
     "text": [
      "Could not find platform independent libraries <prefix>\n",
      "Could not find platform dependent libraries <exec_prefix>\n",
      "Consider setting $PYTHONHOME to <prefix>[:<exec_prefix>]\n",
      "Program terminated: EnergyPlus Terminated--Error(s) Detected.\n"
     ]
    },
    {
     "name": "stdout",
     "output_type": "stream",
     "text": [
      "Removed EMS objs: {}\n",
      "Edited EMS objs: {'EnergyManagementSystem:Program': {'res_ds_res_fur_gas_asys_program': ['1']}}\n",
      "Rerunning sim.\n"
     ]
    },
    {
     "name": "stderr",
     "output_type": "stream",
     "text": [
      "Could not find platform independent libraries <prefix>\n",
      "Could not find platform dependent libraries <exec_prefix>\n",
      "Consider setting $PYTHONHOME to <prefix>[:<exec_prefix>]\n",
      "Program terminated: EnergyPlus Terminated--Error(s) Detected.\n"
     ]
    },
    {
     "name": "stdout",
     "output_type": "stream",
     "text": [
      "Removed EMS objs: {}\n",
      "Edited EMS objs: {'EnergyManagementSystem:Program': {'res_ds_res_fur_gas_asys_program': ['2']}}\n",
      "Rerunning sim.\n"
     ]
    },
    {
     "name": "stderr",
     "output_type": "stream",
     "text": [
      "Could not find platform independent libraries <prefix>\n",
      "Could not find platform dependent libraries <exec_prefix>\n",
      "Consider setting $PYTHONHOME to <prefix>[:<exec_prefix>]\n",
      "Program terminated: EnergyPlus Terminated--Error(s) Detected.\n"
     ]
    },
    {
     "name": "stdout",
     "output_type": "stream",
     "text": [
      "Removed EMS objs: {}\n",
      "Edited EMS objs: {'EnergyManagementSystem:Program': {'res_ds_res_fur_gas_asys_program': ['3']}}\n",
      "Rerunning sim.\n"
     ]
    },
    {
     "name": "stderr",
     "output_type": "stream",
     "text": [
      "Could not find platform independent libraries <prefix>\n",
      "Could not find platform dependent libraries <exec_prefix>\n",
      "Consider setting $PYTHONHOME to <prefix>[:<exec_prefix>]\n",
      "Program terminated: EnergyPlus Terminated--Error(s) Detected.\n"
     ]
    },
    {
     "name": "stdout",
     "output_type": "stream",
     "text": [
      "Removed EMS objs: {}\n",
      "Edited EMS objs: {'EnergyManagementSystem:Program': {'res_ds_res_fur_gas_asys_program': ['4']}}\n",
      "Rerunning sim.\n"
     ]
    },
    {
     "name": "stderr",
     "output_type": "stream",
     "text": [
      "Could not find platform independent libraries <prefix>\n",
      "Could not find platform dependent libraries <exec_prefix>\n",
      "Consider setting $PYTHONHOME to <prefix>[:<exec_prefix>]\n",
      "Program terminated: EnergyPlus Terminated--Error(s) Detected.\n"
     ]
    },
    {
     "name": "stdout",
     "output_type": "stream",
     "text": [
      "Removed EMS objs: {}\n",
      "Edited EMS objs: {'EnergyManagementSystem:Program': {'res_ds_res_fur_gas_asys_program': ['5']}}\n",
      "Rerunning sim.\n"
     ]
    },
    {
     "name": "stderr",
     "output_type": "stream",
     "text": [
      "Could not find platform independent libraries <prefix>\n",
      "Could not find platform dependent libraries <exec_prefix>\n",
      "Consider setting $PYTHONHOME to <prefix>[:<exec_prefix>]\n",
      "Program terminated: EnergyPlus Terminated--Error(s) Detected.\n"
     ]
    },
    {
     "name": "stdout",
     "output_type": "stream",
     "text": [
      "Removed EMS objs: {}\n",
      "Edited EMS objs: {'EnergyManagementSystem:Program': {'res_ds_res_fur_gas_asys_program': ['6']}}\n",
      "Rerunning sim.\n"
     ]
    },
    {
     "name": "stderr",
     "output_type": "stream",
     "text": [
      "Could not find platform independent libraries <prefix>\n",
      "Could not find platform dependent libraries <exec_prefix>\n",
      "Consider setting $PYTHONHOME to <prefix>[:<exec_prefix>]\n",
      "Program terminated: EnergyPlus Terminated--Error(s) Detected.\n"
     ]
    },
    {
     "name": "stdout",
     "output_type": "stream",
     "text": [
      "Removed EMS objs: {}\n",
      "Edited EMS objs: {'EnergyManagementSystem:Program': {'res_ds_res_fur_gas_asys_program': ['7']}}\n",
      "Rerunning sim.\n"
     ]
    },
    {
     "name": "stderr",
     "output_type": "stream",
     "text": [
      "Could not find platform independent libraries <prefix>\n",
      "Could not find platform dependent libraries <exec_prefix>\n",
      "Consider setting $PYTHONHOME to <prefix>[:<exec_prefix>]\n",
      "Program terminated: EnergyPlus Terminated--Error(s) Detected.\n"
     ]
    },
    {
     "name": "stdout",
     "output_type": "stream",
     "text": [
      "Removed EMS objs: {}\n",
      "Edited EMS objs: {'EnergyManagementSystem:Subroutine': {'res_ds_res_fur_gas_asys_lk_subrout': ['4']}}\n",
      "Rerunning sim.\n"
     ]
    },
    {
     "name": "stderr",
     "output_type": "stream",
     "text": [
      "Could not find platform independent libraries <prefix>\n",
      "Could not find platform dependent libraries <exec_prefix>\n",
      "Consider setting $PYTHONHOME to <prefix>[:<exec_prefix>]\n",
      "Program terminated: EnergyPlus Terminated--Error(s) Detected.\n"
     ]
    },
    {
     "name": "stdout",
     "output_type": "stream",
     "text": [
      "Removed EMS objs: {}\n",
      "Edited EMS objs: {'EnergyManagementSystem:Subroutine': {'res_ds_res_fur_gas_asys_lk_subrout': ['5']}}\n",
      "Rerunning sim.\n"
     ]
    },
    {
     "name": "stderr",
     "output_type": "stream",
     "text": [
      "Could not find platform independent libraries <prefix>\n",
      "Could not find platform dependent libraries <exec_prefix>\n",
      "Consider setting $PYTHONHOME to <prefix>[:<exec_prefix>]\n",
      "Program terminated: EnergyPlus Terminated--Error(s) Detected.\n"
     ]
    },
    {
     "name": "stdout",
     "output_type": "stream",
     "text": [
      "Removed EMS objs: {}\n",
      "Edited EMS objs: {'EnergyManagementSystem:Subroutine': {'res_ds_res_fur_gas_asys_lk_subrout': ['6']}}\n",
      "Rerunning sim.\n"
     ]
    },
    {
     "name": "stderr",
     "output_type": "stream",
     "text": [
      "Could not find platform independent libraries <prefix>\n",
      "Could not find platform dependent libraries <exec_prefix>\n",
      "Consider setting $PYTHONHOME to <prefix>[:<exec_prefix>]\n",
      "Program terminated: EnergyPlus Terminated--Error(s) Detected.\n"
     ]
    },
    {
     "name": "stdout",
     "output_type": "stream",
     "text": [
      "Removed EMS objs: {}\n",
      "Edited EMS objs: {'EnergyManagementSystem:Subroutine': {'res_ds_res_fur_gas_asys_lk_subrout': ['7']}}\n",
      "Rerunning sim.\n"
     ]
    },
    {
     "name": "stderr",
     "output_type": "stream",
     "text": [
      "Could not find platform independent libraries <prefix>\n",
      "Could not find platform dependent libraries <exec_prefix>\n",
      "Consider setting $PYTHONHOME to <prefix>[:<exec_prefix>]\n",
      "Program terminated: EnergyPlus Terminated--Error(s) Detected.\n"
     ]
    },
    {
     "name": "stdout",
     "output_type": "stream",
     "text": [
      "Removed EMS objs: {}\n",
      "Edited EMS objs: {'EnergyManagementSystem:Subroutine': {'res_ds_res_fur_gas_asys_lk_subrout': ['10']}}\n",
      "Rerunning sim.\n"
     ]
    },
    {
     "name": "stderr",
     "output_type": "stream",
     "text": [
      "Could not find platform independent libraries <prefix>\n",
      "Could not find platform dependent libraries <exec_prefix>\n",
      "Consider setting $PYTHONHOME to <prefix>[:<exec_prefix>]\n",
      "Program terminated: EnergyPlus Terminated--Error(s) Detected.\n"
     ]
    },
    {
     "name": "stdout",
     "output_type": "stream",
     "text": [
      "Removed EMS objs: {}\n",
      "Edited EMS objs: {'EnergyManagementSystem:Subroutine': {'res_ds_res_fur_gas_asys_lk_subrout': ['11']}}\n",
      "Rerunning sim.\n"
     ]
    },
    {
     "name": "stderr",
     "output_type": "stream",
     "text": [
      "Could not find platform independent libraries <prefix>\n",
      "Could not find platform dependent libraries <exec_prefix>\n",
      "Consider setting $PYTHONHOME to <prefix>[:<exec_prefix>]\n",
      "Program terminated: EnergyPlus Terminated--Error(s) Detected.\n"
     ]
    },
    {
     "name": "stdout",
     "output_type": "stream",
     "text": [
      "Removed EMS objs: {}\n",
      "Edited EMS objs: {'EnergyManagementSystem:Program': {'res_ds_res_fur_gas_asys_program': ['21']}}\n",
      "Rerunning sim.\n"
     ]
    },
    {
     "name": "stderr",
     "output_type": "stream",
     "text": [
      "Could not find platform independent libraries <prefix>\n",
      "Could not find platform dependent libraries <exec_prefix>\n",
      "Consider setting $PYTHONHOME to <prefix>[:<exec_prefix>]\n",
      "EnergyPlus Completed Successfully.\n"
     ]
    }
   ],
   "source": [
    "bldg_id = NEIGHBOURHOOD[0]\n",
    "simulation_data = DATABASE.query_table(f\"\"\"\n",
    "SELECT \n",
    "    i.metadata_id,\n",
    "    i.bldg_osm AS osm, \n",
    "    i.bldg_epw AS epw\n",
    "FROM building_energy_performance_simulation_input i\n",
    "LEFT JOIN metadata m ON m.id = i.metadata_id\n",
    "WHERE m.bldg_id = {bldg_id}\n",
    "\"\"\")\n",
    "simulation_data = simulation_data.to_dict(orient='records')[0]\n",
    "schedule = DATABASE.query_table(f\"\"\"SELECT * FROM schedule WHERE metadata_id = {simulation_data['metadata_id']}\"\"\")\n",
    "schedule = schedule.drop(columns=['metadata_id','timestep',])\n",
    "schedule.to_csv(SCHEDULES_FILENAME,index=False)\n",
    "write_data(simulation_data['osm'],f'{bldg_id}.osm')\n",
    "\n",
    "# retrieve osm\n",
    "simulation_id = f'{bldg_id}'\n",
    "output_directory = os.path.join(SIMULATION_OUTPUT_DIRECTORY,f'output_{simulation_id}')\n",
    "osm = simulation_data['osm']\n",
    "osm_editor = OpenStudioModelEditor(osm)\n",
    "\n",
    "# add IdealAirLoadsHVAC\n",
    "osm_editor.use_ideal_loads_air_system()\n",
    "\n",
    "# convert to idf\n",
    "idf = osm_editor.forward_translate()\n",
    "simulator = Simulator(IDD_FILEPATH,idf,simulation_data['epw'],simulation_id=simulation_id,output_directory=output_directory)\n",
    "\n",
    "\n",
    "# update output variables\n",
    "idf = simulator.get_idf_object()\n",
    "idf.idfobjects['Output:Variable'] = []\n",
    "\n",
    "for output_variable in OUTPUT_VARIABLES:\n",
    "    obj = idf.newidfobject('Output:Variable')\n",
    "    obj.Variable_Name = output_variable\n",
    "    obj.Reporting_Frequency = 'Timestep'\n",
    "\n",
    "for obj in idf.idfobjects['HVACTemplate:Zone:IdealLoadsAirSystem']:\n",
    "    obj.Dehumidification_Control_Type = 'None'\n",
    "    obj.Cooling_Sensible_Heat_Ratio = 1.0\n",
    "\n",
    "# remove daylight savings object\n",
    "idf.idfobjects['RunPeriodControl:DaylightSavingTime'] = []\n",
    "\n",
    "# run E+ sim (EMS objects will most likely throw error)\n",
    "simulator.idf = idf.idfstr()\n",
    "ems_obj_patterns = [ \n",
    "    r'EnergyManagementSystem:Sensor=\\S+',\n",
    "    # r'EnergyManagementSystem:ProgramCallingManager=.+\\s+',\n",
    "]\n",
    "\n",
    "while True:\n",
    "    removed_objs = {}\n",
    "    edited_objs = {}\n",
    "\n",
    "    try:\n",
    "        simulator.simulate()\n",
    "        break\n",
    "    except EnergyPlusRunError as e:\n",
    "        if simulator.has_ems_input_error() or simulator.has_ems_program_error():\n",
    "            try:\n",
    "                removed_objs = {\n",
    "                    **simulator.remove_ems_objs_in_error(patterns=ems_obj_patterns),\n",
    "                    # **simulator.remove_ems_program_objs_in_line_error(),\n",
    "                }\n",
    "                edited_objs = {\n",
    "                    **simulator.redefine_ems_program_in_line_error()\n",
    "                }\n",
    "                print('Removed EMS objs:',removed_objs)\n",
    "                print('Edited EMS objs:',edited_objs)\n",
    "                print('Rerunning sim.')\n",
    "            except Exception as e:\n",
    "                raise(e)\n",
    "        else:\n",
    "            raise(e)\n",
    "\n",
    "# conditioned zone summary\n",
    "database_filepath = os.path.join(simulator.output_directory,f'{simulator.simulation_id}.sql')\n",
    "zones = get_zone_conditioning_metadata(database_filepath)\n",
    "zones = {z['zone_index']:z for z in zones.to_dict('records')}\n",
    "cooled_zones = {k:v for k,v in zones.items() if v['is_cooled']==1}\n",
    "heated_zones = {k:v for k,v in zones.items() if v['is_heated']==1}"
   ]
  },
  {
   "cell_type": "code",
   "execution_count": 5,
   "metadata": {},
   "outputs": [
    {
     "name": "stderr",
     "output_type": "stream",
     "text": [
      "Could not find platform independent libraries <prefix>\n",
      "Could not find platform dependent libraries <exec_prefix>\n",
      "Consider setting $PYTHONHOME to <prefix>[:<exec_prefix>]\n",
      "EnergyPlus Completed Successfully.\n"
     ]
    }
   ],
   "source": [
    "# get loads and air temperature for ideal case\n",
    "iterations = 3\n",
    "data = get_simulation_summary(database_filepath,list(cooled_zones.keys()),list(heated_zones.keys()))\n",
    "load_data = data[data['label'].isin(['cooling_load','heating_load'])].pivot(index=['timestep','zone_name','zone_index'],columns='label',values='value')\n",
    "load_data = load_data.reset_index(drop=False).sort_values(['zone_name','timestep'])\n",
    "# load_data['cooling_load'] *= -1.0\n",
    "temperature_data = data[data['label'].isin(['air_temperature'])].pivot(index='timestep',columns='label',values='value')\n",
    "timestep_count = load_data['timestep'].max()\n",
    "data_dict = {}\n",
    "data_dict['ideal_load'] = load_data.reset_index().to_dict('list')\n",
    "data_dict['idf'] = {}\n",
    "data_dict['idf']['original'] = simulator.idf\n",
    "data_dict['simulation'] = {}\n",
    "data_dict['simulation'][-1] = {}\n",
    "data_dict['simulation'][-1]['load_multiplier'] = [1]*timestep_count\n",
    "data_dict['simulation'][-1]['temperature'] = temperature_data.reset_index().to_dict('list')\n",
    "data_dict['simulation'][-1]['idf'] = 'original'\n",
    "load_schedule_filename = os.path.join(simulator.output_directory,'load.csv')\n",
    "\n",
    "# get multipler for partial loads\n",
    "for i in range(iterations + 1):\n",
    "    data_dict['simulation'][i] = {}\n",
    "    data_dict['simulation'][i]['load_multiplier'] = [1]*timestep_count if i == 0 else get_schedule_data(timestep_count,seed=i)\n",
    "    data_dict['simulation'][i]['idf'] = 'modified'\n",
    "    \n",
    "# generate idf for simulations with partial loads\n",
    "idf = simulator.get_idf_object()\n",
    "\n",
    "# remove zone control objects\n",
    "# -- assumption is residential buildings do not have mechanical ventilation so removing the temperature \n",
    "# -- and humidity control should allow free float of temperature and humidity\n",
    "obj_names = [\n",
    "    'ZoneControl:Thermostat','ZoneControl:Humidistat','ZoneControl:Thermostat:ThermalComfort',\n",
    "    'ZoneControl:Thermostat:OperativeTemperature','ZoneControl:Thermostat:TemperatureAndHumidity','ZoneControl:Thermostat:StagedDualSetpoint'\n",
    "]\n",
    "\n",
    "# remove Ideal Air Loads System\n",
    "idf.idfobjects['HVACTemplate:Zone:IdealLoadsAirSystem'] = []\n",
    "\n",
    "for name in obj_names:\n",
    "    idf.idfobjects[name] = []\n",
    "\n",
    "# schedule type limit object\n",
    "schedule_type_limit_name = 'other equipment hvac power'\n",
    "obj = idf.newidfobject('ScheduleTypeLimits')\n",
    "obj.Name = schedule_type_limit_name\n",
    "obj.Lower_Limit_Value = ''\n",
    "obj.Upper_Limit_Value = ''\n",
    "obj.Numeric_Type = 'Continuous'\n",
    "obj.Unit_Type = 'Dimensionless'\n",
    "\n",
    "# generate stochastic thermal load\n",
    "for i, (zone_name, zone_data) in enumerate(load_data.groupby('zone_name')):\n",
    "    #  cooling and heating independently\n",
    "    for j, (mode, multiplier) in enumerate(zip(['cooling','heating'], [-1,1])):\n",
    "        # put schedule obj\n",
    "        obj = idf.newidfobject('Schedule:File')\n",
    "        schedule_object_name = f'{zone_name} {mode} load'\n",
    "        obj.Name = schedule_object_name\n",
    "        obj.Schedule_Type_Limits_Name = schedule_type_limit_name\n",
    "        obj.File_Name = load_schedule_filename\n",
    "        obj.Column_Number = j + 1\n",
    "        obj.Rows_to_Skip_at_Top = 1 + i*timestep_count\n",
    "        obj.Number_of_Hours_of_Data = 8760\n",
    "        obj.Minutes_per_Item = 15\n",
    "\n",
    "        # put other equipment\n",
    "        obj = idf.newidfobject('OtherEquipment')\n",
    "        obj.Name = f'{zone_name} {mode} load'\n",
    "        obj.Fuel_Type = 'None'\n",
    "        obj.Zone_or_ZoneList_or_Space_or_SpaceList_Name = zone_name\n",
    "        obj.Schedule_Name = schedule_object_name\n",
    "        obj.Design_Level_Calculation_Method = 'EquipmentLevel'\n",
    "        obj.Design_Level = load_data[f'{mode}_load'].max()*multiplier \n",
    "        obj.Fraction_Latent = 0.0\n",
    "        obj.Fraction_Radiant = 0.0\n",
    "        obj.Fraction_Lost = 0.0\n",
    "        obj.EndUse_Subcategory = f'Other Equipment {mode}'\n",
    "\n",
    "data_dict['idf']['modified'] = idf.idfstr()\n",
    "\n",
    "# run simulations\n",
    "for k, v in data_dict['simulation'].items():\n",
    "    if k > -1:\n",
    "        \n",
    "        load_multiplier = pd.DataFrame(v['load_multiplier'],columns=['load_multiplier'])\n",
    "        load_multiplier['timestep'] = load_multiplier.index + 1\n",
    "        load_data = pd.DataFrame(data_dict['ideal_load']).merge(load_multiplier,on='timestep',how='left')\n",
    "        \n",
    "        for c in ['cooling_load','heating_load']:\n",
    "            load_data[c] = load_data[c]/load_data[c].max()\n",
    "            load_data[c] *= load_data['load_multiplier']\n",
    "\n",
    "        load_data[['cooling_load','heating_load']].to_csv(load_schedule_filename,index=False)\n",
    "        simulation_id = f'{simulator.simulation_id}_{k}'\n",
    "        output_directory = os.path.join(SIMULATION_OUTPUT_DIRECTORY,f'output_{simulation_id}')\n",
    "        iteration_simulator = Simulator(IDD_FILEPATH,data_dict['idf']['modified'],simulation_data['epw'],output_directory=output_directory,simulation_id=simulation_id)\n",
    "        iteration_simulator.simulate()\n",
    "        iteration_database_filepath = os.path.join(iteration_simulator.output_directory,f'{iteration_simulator.simulation_id}.sql')\n",
    "        temperature_data = get_simulation_summary(iteration_database_filepath,list(cooled_zones.keys()),list(heated_zones.keys()))\n",
    "        temperature_data = temperature_data[temperature_data['label'].isin(['air_temperature'])].pivot(index='timestep',columns='label',values='value')\n",
    "        data_dict['simulation'][k]['temperature'] = temperature_data.reset_index().to_dict('list')\n",
    "        break\n",
    "    else:\n",
    "        continue"
   ]
  },
  {
   "cell_type": "code",
   "execution_count": 6,
   "metadata": {},
   "outputs": [
    {
     "data": {
      "text/plain": [
       "<AxesSubplot:>"
      ]
     },
     "execution_count": 6,
     "metadata": {},
     "output_type": "execute_result"
    },
    {
     "data": {
      "image/png": "[encoded data removed]",
      "text/plain": [
       "<Figure size 1296x216 with 1 Axes>"
      ]
     },
     "metadata": {
      "needs_background": "light"
     },
     "output_type": "display_data"
    }
   ],
   "source": [
    "data = pd.DataFrame({k:v['temperature']['air_temperature'] for k, v in data_dict['simulation'].items() if 'temperature' in v.keys()})\n",
    "data['difference'] = data[-1] - data[0]\n",
    "data[['difference']].plot(figsize=(18,3))"
   ]
  },
  {
   "cell_type": "code",
   "execution_count": 16,
   "metadata": {},
   "outputs": [],
   "source": [
    "write_data(data_dict['idf']['modified'],'nb_idf.idf')"
   ]
  },
  {
   "cell_type": "code",
   "execution_count": 19,
   "metadata": {},
   "outputs": [
    {
     "data": {
      "text/html": [
       "<div>\n",
       "<style scoped>\n",
       "    .dataframe tbody tr th:only-of-type {\n",
       "        vertical-align: middle;\n",
       "    }\n",
       "\n",
       "    .dataframe tbody tr th {\n",
       "        vertical-align: top;\n",
       "    }\n",
       "\n",
       "    .dataframe thead th {\n",
       "        text-align: right;\n",
       "    }\n",
       "</style>\n",
       "<table border=\"1\" class=\"dataframe\">\n",
       "  <thead>\n",
       "    <tr style=\"text-align: right;\">\n",
       "      <th></th>\n",
       "      <th>diff</th>\n",
       "    </tr>\n",
       "  </thead>\n",
       "  <tbody>\n",
       "    <tr>\n",
       "      <th>count</th>\n",
       "      <td>3.504000e+04</td>\n",
       "    </tr>\n",
       "    <tr>\n",
       "      <th>mean</th>\n",
       "      <td>-5.498116e-15</td>\n",
       "    </tr>\n",
       "    <tr>\n",
       "      <th>std</th>\n",
       "      <td>1.085752e-13</td>\n",
       "    </tr>\n",
       "    <tr>\n",
       "      <th>min</th>\n",
       "      <td>-9.094947e-13</td>\n",
       "    </tr>\n",
       "    <tr>\n",
       "      <th>25%</th>\n",
       "      <td>0.000000e+00</td>\n",
       "    </tr>\n",
       "    <tr>\n",
       "      <th>50%</th>\n",
       "      <td>0.000000e+00</td>\n",
       "    </tr>\n",
       "    <tr>\n",
       "      <th>75%</th>\n",
       "      <td>0.000000e+00</td>\n",
       "    </tr>\n",
       "    <tr>\n",
       "      <th>max</th>\n",
       "      <td>9.094947e-13</td>\n",
       "    </tr>\n",
       "  </tbody>\n",
       "</table>\n",
       "</div>"
      ],
      "text/plain": [
       "               diff\n",
       "count  3.504000e+04\n",
       "mean  -5.498116e-15\n",
       "std    1.085752e-13\n",
       "min   -9.094947e-13\n",
       "25%    0.000000e+00\n",
       "50%    0.000000e+00\n",
       "75%    0.000000e+00\n",
       "max    9.094947e-13"
      ]
     },
     "execution_count": 19,
     "metadata": {},
     "output_type": "execute_result"
    }
   ],
   "source": [
    "a = pd.DataFrame(data_dict['ideal_load'])\n",
    "a = a[['timestep','cooling_load']].copy()\n",
    "a.columns = ['timestep','nb_value']\n",
    "b = pd.read_csv('/Users/kingsleyenweye/Desktop/INTELLIGENT_ENVIRONMENT_LAB/doe_xstock/doe_xstock/analysis/load.csv')\n",
    "b['timestep'] = b.index + 1\n",
    "b = b[['timestep','cooling']].copy()\n",
    "b.columns = ['timestep','sc_value']\n",
    "c = a.merge(b,on='timestep',how='inner').set_index('timestep')\n",
    "c['diff'] = c['nb_value'] - c['sc_value']\n",
    "c[['diff']].describe()"
   ]
  },
  {
   "cell_type": "code",
   "execution_count": 22,
   "metadata": {},
   "outputs": [
    {
     "data": {
      "text/plain": [
       "<AxesSubplot:>"
      ]
     },
     "execution_count": 22,
     "metadata": {},
     "output_type": "execute_result"
    },
    {
     "data": {
      "image/png": "[encoded data removed]",
      "text/plain": [
       "<Figure size 432x288 with 1 Axes>"
      ]
     },
     "metadata": {
      "needs_background": "light"
     },
     "output_type": "display_data"
    }
   ],
   "source": [
    "a[['nb_value']].plot()"
   ]
  },
  {
   "cell_type": "code",
   "execution_count": null,
   "metadata": {},
   "outputs": [],
   "source": [
    "# pd.DataFrame({\n",
    "#     'edited_cooling':data_dict['ideal_load_edited']['cooling_load'],\n",
    "#     'removed_cooling':data_dict['ideal_load_removed']['cooling_load'],\n",
    "#     'edited_heating':data_dict['ideal_load_edited']['heating_load'],\n",
    "#     'removed_heating':data_dict['ideal_load_removed']['heating_load'],\n",
    "# }).to_csv('test_load.csv',index=False)\n",
    "# # data.iloc[15000:15090].plot(figsize=(20,3))"
   ]
  }
 ],
 "metadata": {
  "interpreter": {
   "hash": "c308c5f252ffedf96d389bda9fd62265055310443335bb9c27d4db08f38d8381"
  },
  "kernelspec": {
   "display_name": "Python 3.7.3 ('env': venv)",
   "language": "python",
   "name": "python3"
  },
  "language_info": {
   "codemirror_mode": {
    "name": "ipython",
    "version": 3
   },
   "file_extension": ".py",
   "mimetype": "text/x-python",
   "name": "python",
   "nbconvert_exporter": "python",
   "pygments_lexer": "ipython3",
   "version": "3.7.3"
  },
  "orig_nbformat": 4
 },
 "nbformat": 4,
 "nbformat_minor": 2
}
