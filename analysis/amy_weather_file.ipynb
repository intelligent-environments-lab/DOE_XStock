{
 "cells": [
  {
   "cell_type": "code",
   "execution_count": 1,
   "metadata": {},
   "outputs": [],
   "source": [
    "from datetime import timedelta\n",
    "import io\n",
    "import sys\n",
    "sys.path.insert(0,'..')\n",
    "import pandas as pd\n",
    "from doe_xstock.doe_xstock import DOEXStockDatabase"
   ]
  },
  {
   "cell_type": "code",
   "execution_count": 2,
   "metadata": {},
   "outputs": [],
   "source": [
    "DATABASE_FILEPATH = 'database.db'\n",
    "DATABASE = DOEXStockDatabase(DATABASE_FILEPATH)"
   ]
  },
  {
   "cell_type": "code",
   "execution_count": 3,
   "metadata": {},
   "outputs": [],
   "source": [
    "dataset = {\n",
    "    'dataset_type':'resstock',\n",
    "    'weather_data':'amy2018',\n",
    "    'year_of_publication':'2021',\n",
    "    'release':'1'\n",
    "}\n",
    "dataset_id = 1\n",
    "buildings = DATABASE.query_table(f\"\"\"\n",
    "    SELECT\n",
    "        bldg_id,\n",
    "        id AS metadata_id,\n",
    "        in_county AS county,\n",
    "        upgrade,\n",
    "        in_nhgis_county_gisjoin,\n",
    "        in_nhgis_puma_gisjoin,\n",
    "        in_weather_file_latitude,\n",
    "        in_weather_file_longitude,\n",
    "        in_weather_file_tmy3\n",
    "    FROM metadata\n",
    "    WHERE\n",
    "        dataset_id = {dataset_id}\n",
    "        AND in_resstock_county_id IN ('TX, Travis County', 'VT, Chittenden County', 'CA, Alameda County')\n",
    "        AND in_geometry_building_type_recs = 'Single-Family Detached'\n",
    "        AND in_vacancy_status = 'Occupied'\n",
    "        AND upgrade = 0\n",
    "\"\"\"\n",
    ")\n",
    "DATABASE.update_weather_table(dataset_id,dataset,buildings)"
   ]
  },
  {
   "cell_type": "code",
   "execution_count": null,
   "metadata": {},
   "outputs": [],
   "source": []
  }
 ],
 "metadata": {
  "kernelspec": {
   "display_name": "Python 3.7.3 ('env': venv)",
   "language": "python",
   "name": "python3"
  },
  "language_info": {
   "codemirror_mode": {
    "name": "ipython",
    "version": 3
   },
   "file_extension": ".py",
   "mimetype": "text/x-python",
   "name": "python",
   "nbconvert_exporter": "python",
   "pygments_lexer": "ipython3",
   "version": "3.7.3"
  },
  "orig_nbformat": 4,
  "vscode": {
   "interpreter": {
    "hash": "c308c5f252ffedf96d389bda9fd62265055310443335bb9c27d4db08f38d8381"
   }
  }
 },
 "nbformat": 4,
 "nbformat_minor": 2
}
